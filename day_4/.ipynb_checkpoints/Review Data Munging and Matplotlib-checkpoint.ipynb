{
 "cells": [
  {
   "cell_type": "markdown",
   "metadata": {},
   "source": [
    "  # Python for Data Science Bootcamp\n",
    "  ## Review Data Munging and Matplotlib"
   ]
  },
  {
   "cell_type": "markdown",
   "metadata": {},
   "source": [
    "Import the yelp_reviews_sample.csv file as a Dataframe"
   ]
  },
  {
   "cell_type": "code",
   "execution_count": 55,
   "metadata": {},
   "outputs": [],
   "source": [
    "import pandas as pd"
   ]
  },
  {
   "cell_type": "code",
   "execution_count": 56,
   "metadata": {},
   "outputs": [
    {
     "data": {
      "text/html": [
       "<div>\n",
       "<style scoped>\n",
       "    .dataframe tbody tr th:only-of-type {\n",
       "        vertical-align: middle;\n",
       "    }\n",
       "\n",
       "    .dataframe tbody tr th {\n",
       "        vertical-align: top;\n",
       "    }\n",
       "\n",
       "    .dataframe thead th {\n",
       "        text-align: right;\n",
       "    }\n",
       "</style>\n",
       "<table border=\"1\" class=\"dataframe\">\n",
       "  <thead>\n",
       "    <tr style=\"text-align: right;\">\n",
       "      <th></th>\n",
       "      <th>business_name</th>\n",
       "      <th>review_id</th>\n",
       "      <th>user_id</th>\n",
       "      <th>stars</th>\n",
       "      <th>review_date</th>\n",
       "      <th>review_text</th>\n",
       "      <th>funny</th>\n",
       "      <th>useful</th>\n",
       "      <th>cool</th>\n",
       "    </tr>\n",
       "  </thead>\n",
       "  <tbody>\n",
       "    <tr>\n",
       "      <th>0</th>\n",
       "      <td>Thai Pan Fresh Exotic Cuisine</td>\n",
       "      <td>0ESSqLfOae77muWTv_zUqA</td>\n",
       "      <td>r-t7IiTSD0QZdt8lOUCqeQ</td>\n",
       "      <td>3</td>\n",
       "      <td>2011-02-11</td>\n",
       "      <td>Lately i have been feeling homesick for asian ...</td>\n",
       "      <td>1</td>\n",
       "      <td>1</td>\n",
       "      <td>1</td>\n",
       "    </tr>\n",
       "    <tr>\n",
       "      <th>1</th>\n",
       "      <td>Salon Lola</td>\n",
       "      <td>VyAKIaj_Rmsf_ZCHcGJyUw</td>\n",
       "      <td>SS85hfTApRnbTPcJadra8A</td>\n",
       "      <td>5</td>\n",
       "      <td>2010-05-30</td>\n",
       "      <td>I love Marilo!  She understands my hair type a...</td>\n",
       "      <td>0</td>\n",
       "      <td>0</td>\n",
       "      <td>0</td>\n",
       "    </tr>\n",
       "    <tr>\n",
       "      <th>2</th>\n",
       "      <td>Chipotle Mexican Grill</td>\n",
       "      <td>DusrkpkTGPGkqK13xO1TZg</td>\n",
       "      <td>xAVu2pZ6nIvkdHh8vGs84Q</td>\n",
       "      <td>3</td>\n",
       "      <td>2011-11-26</td>\n",
       "      <td>Standard Chipotle fare - consistently good; no...</td>\n",
       "      <td>0</td>\n",
       "      <td>0</td>\n",
       "      <td>0</td>\n",
       "    </tr>\n",
       "    <tr>\n",
       "      <th>3</th>\n",
       "      <td>Sam's Deli</td>\n",
       "      <td>A5FL-YYXnr2hnvXQbgkkrQ</td>\n",
       "      <td>Xuvj2Fq6c3mCmplVG7h21w</td>\n",
       "      <td>4</td>\n",
       "      <td>2013-10-10</td>\n",
       "      <td>Very good prices with quality ingredients.</td>\n",
       "      <td>0</td>\n",
       "      <td>0</td>\n",
       "      <td>0</td>\n",
       "    </tr>\n",
       "    <tr>\n",
       "      <th>4</th>\n",
       "      <td>Petco</td>\n",
       "      <td>SzhIWfzLHUZfiAaVTtKHxw</td>\n",
       "      <td>jHH_UDpCnF-YTnveyoMTIA</td>\n",
       "      <td>1</td>\n",
       "      <td>2012-09-02</td>\n",
       "      <td>I went to this Petco a few times and was a bit...</td>\n",
       "      <td>0</td>\n",
       "      <td>1</td>\n",
       "      <td>0</td>\n",
       "    </tr>\n",
       "  </tbody>\n",
       "</table>\n",
       "</div>"
      ],
      "text/plain": [
       "                   business_name               review_id  \\\n",
       "0  Thai Pan Fresh Exotic Cuisine  0ESSqLfOae77muWTv_zUqA   \n",
       "1                     Salon Lola  VyAKIaj_Rmsf_ZCHcGJyUw   \n",
       "2         Chipotle Mexican Grill  DusrkpkTGPGkqK13xO1TZg   \n",
       "3                     Sam's Deli  A5FL-YYXnr2hnvXQbgkkrQ   \n",
       "4                          Petco  SzhIWfzLHUZfiAaVTtKHxw   \n",
       "\n",
       "                  user_id stars review_date  \\\n",
       "0  r-t7IiTSD0QZdt8lOUCqeQ     3  2011-02-11   \n",
       "1  SS85hfTApRnbTPcJadra8A     5  2010-05-30   \n",
       "2  xAVu2pZ6nIvkdHh8vGs84Q     3  2011-11-26   \n",
       "3  Xuvj2Fq6c3mCmplVG7h21w     4  2013-10-10   \n",
       "4  jHH_UDpCnF-YTnveyoMTIA     1  2012-09-02   \n",
       "\n",
       "                                         review_text  funny  useful  cool  \n",
       "0  Lately i have been feeling homesick for asian ...      1       1     1  \n",
       "1  I love Marilo!  She understands my hair type a...      0       0     0  \n",
       "2  Standard Chipotle fare - consistently good; no...      0       0     0  \n",
       "3         Very good prices with quality ingredients.      0       0     0  \n",
       "4  I went to this Petco a few times and was a bit...      0       1     0  "
      ]
     },
     "execution_count": 56,
     "metadata": {},
     "output_type": "execute_result"
    }
   ],
   "source": [
    "data = pd.read_csv('yelp_reviews_sample.csv',encoding='latin1')\n",
    "data.head()"
   ]
  },
  {
   "cell_type": "markdown",
   "metadata": {},
   "source": [
    "Investigate the data and see if anything needs cleaning.  Hint: Check the unique values and value_counts for stars column."
   ]
  },
  {
   "cell_type": "code",
   "execution_count": 57,
   "metadata": {},
   "outputs": [
    {
     "name": "stdout",
     "output_type": "stream",
     "text": [
      "<class 'pandas.core.frame.DataFrame'>\n",
      "RangeIndex: 16390 entries, 0 to 16389\n",
      "Data columns (total 9 columns):\n",
      "business_name    16390 non-null object\n",
      "review_id        16390 non-null object\n",
      "user_id          16390 non-null object\n",
      "stars            16390 non-null object\n",
      "review_date      16390 non-null object\n",
      "review_text      16390 non-null object\n",
      "funny            16390 non-null int64\n",
      "useful           16390 non-null int64\n",
      "cool             16390 non-null int64\n",
      "dtypes: int64(3), object(6)\n",
      "memory usage: 1.1+ MB\n"
     ]
    }
   ],
   "source": [
    "data.info()"
   ]
  },
  {
   "cell_type": "code",
   "execution_count": 67,
   "metadata": {},
   "outputs": [
    {
     "data": {
      "text/html": [
       "<div>\n",
       "<style scoped>\n",
       "    .dataframe tbody tr th:only-of-type {\n",
       "        vertical-align: middle;\n",
       "    }\n",
       "\n",
       "    .dataframe tbody tr th {\n",
       "        vertical-align: top;\n",
       "    }\n",
       "\n",
       "    .dataframe thead th {\n",
       "        text-align: right;\n",
       "    }\n",
       "</style>\n",
       "<table border=\"1\" class=\"dataframe\">\n",
       "  <thead>\n",
       "    <tr style=\"text-align: right;\">\n",
       "      <th></th>\n",
       "      <th>count</th>\n",
       "      <th>mean</th>\n",
       "      <th>std</th>\n",
       "      <th>min</th>\n",
       "      <th>25%</th>\n",
       "      <th>50%</th>\n",
       "      <th>75%</th>\n",
       "      <th>max</th>\n",
       "    </tr>\n",
       "  </thead>\n",
       "  <tbody>\n",
       "    <tr>\n",
       "      <th>stars</th>\n",
       "      <td>16376.0</td>\n",
       "      <td>3.786395</td>\n",
       "      <td>1.247527</td>\n",
       "      <td>1.0</td>\n",
       "      <td>3.0</td>\n",
       "      <td>4.0</td>\n",
       "      <td>5.0</td>\n",
       "      <td>5.0</td>\n",
       "    </tr>\n",
       "    <tr>\n",
       "      <th>funny</th>\n",
       "      <td>16376.0</td>\n",
       "      <td>0.607169</td>\n",
       "      <td>1.774147</td>\n",
       "      <td>0.0</td>\n",
       "      <td>0.0</td>\n",
       "      <td>0.0</td>\n",
       "      <td>1.0</td>\n",
       "      <td>70.0</td>\n",
       "    </tr>\n",
       "    <tr>\n",
       "      <th>useful</th>\n",
       "      <td>16376.0</td>\n",
       "      <td>1.250916</td>\n",
       "      <td>2.084798</td>\n",
       "      <td>0.0</td>\n",
       "      <td>0.0</td>\n",
       "      <td>1.0</td>\n",
       "      <td>2.0</td>\n",
       "      <td>38.0</td>\n",
       "    </tr>\n",
       "    <tr>\n",
       "      <th>cool</th>\n",
       "      <td>16376.0</td>\n",
       "      <td>0.764045</td>\n",
       "      <td>1.784997</td>\n",
       "      <td>0.0</td>\n",
       "      <td>0.0</td>\n",
       "      <td>0.0</td>\n",
       "      <td>1.0</td>\n",
       "      <td>36.0</td>\n",
       "    </tr>\n",
       "  </tbody>\n",
       "</table>\n",
       "</div>"
      ],
      "text/plain": [
       "          count      mean       std  min  25%  50%  75%   max\n",
       "stars   16376.0  3.786395  1.247527  1.0  3.0  4.0  5.0   5.0\n",
       "funny   16376.0  0.607169  1.774147  0.0  0.0  0.0  1.0  70.0\n",
       "useful  16376.0  1.250916  2.084798  0.0  0.0  1.0  2.0  38.0\n",
       "cool    16376.0  0.764045  1.784997  0.0  0.0  0.0  1.0  36.0"
      ]
     },
     "execution_count": 67,
     "metadata": {},
     "output_type": "execute_result"
    }
   ],
   "source": [
    "data.describe().T"
   ]
  },
  {
   "cell_type": "code",
   "execution_count": 59,
   "metadata": {},
   "outputs": [
    {
     "data": {
      "text/plain": [
       "array(['3', '5', '4', '1', '2', '?'], dtype=object)"
      ]
     },
     "execution_count": 59,
     "metadata": {},
     "output_type": "execute_result"
    }
   ],
   "source": [
    "data.stars.unique()"
   ]
  },
  {
   "cell_type": "code",
   "execution_count": 60,
   "metadata": {},
   "outputs": [
    {
     "data": {
      "text/plain": [
       "5    5842\n",
       "4    5371\n",
       "3    2334\n",
       "2    1481\n",
       "1    1348\n",
       "?      14\n",
       "Name: stars, dtype: int64"
      ]
     },
     "execution_count": 60,
     "metadata": {},
     "output_type": "execute_result"
    }
   ],
   "source": [
    "data.stars.value_counts()"
   ]
  },
  {
   "cell_type": "markdown",
   "metadata": {},
   "source": [
    "Clean the data by removing the reviews with '?' for stars rating"
   ]
  },
  {
   "cell_type": "code",
   "execution_count": 61,
   "metadata": {},
   "outputs": [
    {
     "data": {
      "text/plain": [
       "array(['3', '5', '4', '1', '2'], dtype=object)"
      ]
     },
     "execution_count": 61,
     "metadata": {},
     "output_type": "execute_result"
    }
   ],
   "source": [
    "data = data[data.stars != '?']\n",
    "data.stars.unique()"
   ]
  },
  {
   "cell_type": "markdown",
   "metadata": {},
   "source": [
    "Replace the stars values that are text with integers"
   ]
  },
  {
   "cell_type": "code",
   "execution_count": 69,
   "metadata": {},
   "outputs": [
    {
     "data": {
      "text/plain": [
       "array([3, 5, 4, 1, 2])"
      ]
     },
     "execution_count": 69,
     "metadata": {},
     "output_type": "execute_result"
    }
   ],
   "source": [
    "# mapping = {'1': 1, '2': 2, '3': 3, '4': 4, '5': 5}\n",
    "# data.replace({'stars': mapping}, inplace=True)\n",
    "# data.stars = data.stars.astype(int)\n",
    "# data.stars = data.stars.apply(int)\n",
    "data.stars = pd.to_numeric(data.stars, errors='coerce') # invalid parsing will be set as NaN\n",
    "data.stars.unique()"
   ]
  },
  {
   "cell_type": "markdown",
   "metadata": {},
   "source": [
    "How many 5 star reviews does Lo-Lo's Chicken & Waffles have?"
   ]
  },
  {
   "cell_type": "code",
   "execution_count": 53,
   "metadata": {},
   "outputs": [
    {
     "data": {
      "text/plain": [
       "20"
      ]
     },
     "execution_count": 53,
     "metadata": {},
     "output_type": "execute_result"
    }
   ],
   "source": [
    "rows = data[(data.business_name == \"Lo-Lo's Chicken & Waffles\") & (data.stars == 5)]\n",
    "rows.shape[0]"
   ]
  },
  {
   "cell_type": "markdown",
   "metadata": {},
   "source": [
    "What's the most number of cool votes a review received?"
   ]
  },
  {
   "cell_type": "code",
   "execution_count": 54,
   "metadata": {},
   "outputs": [
    {
     "data": {
      "text/html": [
       "<div>\n",
       "<style scoped>\n",
       "    .dataframe tbody tr th:only-of-type {\n",
       "        vertical-align: middle;\n",
       "    }\n",
       "\n",
       "    .dataframe tbody tr th {\n",
       "        vertical-align: top;\n",
       "    }\n",
       "\n",
       "    .dataframe thead th {\n",
       "        text-align: right;\n",
       "    }\n",
       "</style>\n",
       "<table border=\"1\" class=\"dataframe\">\n",
       "  <thead>\n",
       "    <tr style=\"text-align: right;\">\n",
       "      <th></th>\n",
       "      <th>business_name</th>\n",
       "      <th>review_id</th>\n",
       "      <th>user_id</th>\n",
       "      <th>stars</th>\n",
       "      <th>review_date</th>\n",
       "      <th>review_text</th>\n",
       "      <th>funny</th>\n",
       "      <th>useful</th>\n",
       "      <th>cool</th>\n",
       "    </tr>\n",
       "  </thead>\n",
       "  <tbody>\n",
       "    <tr>\n",
       "      <th>4555</th>\n",
       "      <td>Rainforest Cafe</td>\n",
       "      <td>2FgG1U24AH0KLBj4l16bLg</td>\n",
       "      <td>C8ZTiwa7qWoPSMIivTeSfw</td>\n",
       "      <td>1</td>\n",
       "      <td>2008-02-28</td>\n",
       "      <td>I would rather be a freegan and dumpster dive ...</td>\n",
       "      <td>70</td>\n",
       "      <td>28</td>\n",
       "      <td>36</td>\n",
       "    </tr>\n",
       "    <tr>\n",
       "      <th>10490</th>\n",
       "      <td>Dyno Comp</td>\n",
       "      <td>x-aZ1ccyXTnQFzgGLTNI4A</td>\n",
       "      <td>qrVKWrW2N7-Wn1Jgxg5j6w</td>\n",
       "      <td>5</td>\n",
       "      <td>2010-11-23</td>\n",
       "      <td>Best shop in town.\\rEvery employee at Dyno-Com...</td>\n",
       "      <td>0</td>\n",
       "      <td>38</td>\n",
       "      <td>36</td>\n",
       "    </tr>\n",
       "  </tbody>\n",
       "</table>\n",
       "</div>"
      ],
      "text/plain": [
       "         business_name               review_id                 user_id  stars  \\\n",
       "4555   Rainforest Cafe  2FgG1U24AH0KLBj4l16bLg  C8ZTiwa7qWoPSMIivTeSfw      1   \n",
       "10490        Dyno Comp  x-aZ1ccyXTnQFzgGLTNI4A  qrVKWrW2N7-Wn1Jgxg5j6w      5   \n",
       "\n",
       "      review_date                                        review_text  funny  \\\n",
       "4555   2008-02-28  I would rather be a freegan and dumpster dive ...     70   \n",
       "10490  2010-11-23  Best shop in town.\\rEvery employee at Dyno-Com...      0   \n",
       "\n",
       "       useful  cool  \n",
       "4555       28    36  \n",
       "10490      38    36  "
      ]
     },
     "execution_count": 54,
     "metadata": {},
     "output_type": "execute_result"
    }
   ],
   "source": [
    "max_cool = data.cool.max()\n",
    "data[data.cool == max_cool]"
   ]
  },
  {
   "cell_type": "markdown",
   "metadata": {},
   "source": [
    "Which business has the most reviews? (hint: use .value_counts())"
   ]
  },
  {
   "cell_type": "code",
   "execution_count": 25,
   "metadata": {},
   "outputs": [
    {
     "data": {
      "text/plain": [
       "'Pita Jungle'"
      ]
     },
     "execution_count": 25,
     "metadata": {},
     "output_type": "execute_result"
    }
   ],
   "source": [
    "review_counts = data.business_name.value_counts()\n",
    "review_counts.index[0]"
   ]
  },
  {
   "cell_type": "markdown",
   "metadata": {},
   "source": [
    "Create a scatter plot of the average star rating vs. average cool review per business (Hint: Use groupby to get the data)"
   ]
  },
  {
   "cell_type": "code",
   "execution_count": 26,
   "metadata": {},
   "outputs": [],
   "source": [
    "chart_data = data.groupby('business_name')['stars','cool'].mean()"
   ]
  },
  {
   "cell_type": "code",
   "execution_count": 27,
   "metadata": {},
   "outputs": [],
   "source": [
    "import matplotlib.pyplot as plt\n",
    "%matplotlib inline"
   ]
  },
  {
   "cell_type": "code",
   "execution_count": 28,
   "metadata": {},
   "outputs": [
    {
     "data": {
      "text/plain": [
       "<matplotlib.collections.PathCollection at 0x10c4764e0>"
      ]
     },
     "execution_count": 28,
     "metadata": {},
     "output_type": "execute_result"
    },
    {
     "data": {
      "image/png": "[encoded data removed]",
      "text/plain": [
       "<matplotlib.figure.Figure at 0x1056e7470>"
      ]
     },
     "metadata": {},
     "output_type": "display_data"
    }
   ],
   "source": [
    "canvas = plt.figure()\n",
    "first_graph = canvas.add_subplot(111)\n",
    "first_graph.scatter(chart_data.stars, chart_data.cool, 40, color='pink', alpha='0.5')"
   ]
  },
  {
   "cell_type": "markdown",
   "metadata": {},
   "source": [
    "Bonus:  Change the marker size and transparency in the plot"
   ]
  }
 ],
 "metadata": {
  "kernelspec": {
   "display_name": "Python 3",
   "language": "python",
   "name": "python3"
  },
  "language_info": {
   "codemirror_mode": {
    "name": "ipython",
    "version": 3
   },
   "file_extension": ".py",
   "mimetype": "text/x-python",
   "name": "python",
   "nbconvert_exporter": "python",
   "pygments_lexer": "ipython3",
   "version": "3.6.4"
  }
 },
 "nbformat": 4,
 "nbformat_minor": 1
}
